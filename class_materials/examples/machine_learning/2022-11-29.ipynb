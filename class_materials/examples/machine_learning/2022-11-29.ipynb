{
 "cells": [
  {
   "cell_type": "code",
   "execution_count": 4,
   "metadata": {},
   "outputs": [],
   "source": [
    "import pandas as pd\n",
    "from sklearn.pipeline import Pipeline\n",
    "from sklearn.linear_model import LogisticRegression\n",
    "from sklearn.preprocessing import OneHotEncoder\n",
    "from sklearn.compose import ColumnTransformer\n",
    "\n",
    "import numpy as np\n",
    "\n",
    "from typing import Optional\n",
    "\n",
    "from sklearn.base import BaseEstimator, TransformerMixin"
   ]
  },
  {
   "cell_type": "code",
   "execution_count": 38,
   "metadata": {},
   "outputs": [],
   "source": [
    "# Loading data\n",
    "train_df = pd.read_csv(\"./data/titanic_train.csv\")\n",
    "test_df = pd.read_csv(\"./data/titanic_test.csv\")"
   ]
  },
  {
   "cell_type": "code",
   "execution_count": 17,
   "metadata": {},
   "outputs": [],
   "source": [
    "class FillMissingAgeTransformer(BaseEstimator, TransformerMixin):\n",
    "    def __init__(self) -> None:\n",
    "        self._mean_age: float = None\n",
    "        self._mean_mrs_age: float = None\n",
    "        self._mean_miss_age: float = None\n",
    "\n",
    "    def _extract_title_from_name(self, full_name: str) -> pd.DataFrame:\n",
    "        return full_name.split(\",\")[1].split(\".\")[0].strip()\n",
    "\n",
    "    def fit(self, X: pd.DataFrame, y: Optional[np.ndarray] = None):\n",
    "        data = X.copy()\n",
    "        data[\"title\"] = data[\"Name\"].apply(self._extract_title_from_name)\n",
    "\n",
    "        self._mean_age = data[\"Age\"].mean()\n",
    "        self._mean_mrs_age = data.loc[data[\"title\"] == \"mrs\"][\"Age\"].mean()\n",
    "        self._mean_miss_age = data.loc[data[\"title\"] == \"miss\"][\"Age\"].mean()\n",
    "\n",
    "        return self\n",
    "\n",
    "    def transform(self, X: pd.DataFrame, y: Optional[np.ndarray] = None) -> pd.DataFrame:\n",
    "        data = X.copy()\n",
    "        data[\"title\"] = data[\"Name\"].apply(self._extract_title_from_name)\n",
    "\n",
    "        data.loc[(data[\"title\"] == \"mrs\"), \"Age\"] = data.loc[(data[\"title\"] == \"mrs\"), \"Age\"].fillna(self._mean_mrs_age)\n",
    "        data.loc[(data[\"title\"] == \"miss\"), \"Age\"] = data.loc[(data[\"title\"] == \"miss\"), \"Age\"].fillna(self._mean_miss_age)\n",
    "        data[\"Age\"].fillna(self._mean_age, inplace=True)\n",
    "        \n",
    "        return data"
   ]
  },
  {
   "cell_type": "code",
   "execution_count": 26,
   "metadata": {},
   "outputs": [],
   "source": [
    "class AgeCategorisationTransformer(BaseEstimator, TransformerMixin):\n",
    "    def fit(self, X: pd.DataFrame, y: Optional[np.ndarray] = None):\n",
    "        return self\n",
    "\n",
    "    def _assign_age_group(self, age: float) -> str:\n",
    "        if age <= 14:\n",
    "            return \"child\"\n",
    "        elif age <= 55:\n",
    "            return \"adult\"\n",
    "        return \"elder\"\n",
    "\n",
    "    def transform(self, X: pd.DataFrame, y: Optional[np.ndarray] = None) -> pd.DataFrame:\n",
    "        data = X.copy()\n",
    "        data[\"age_group\"] = data[\"Age\"].apply(self._assign_age_group)\n",
    "        \n",
    "        return data"
   ]
  },
  {
   "cell_type": "code",
   "execution_count": 39,
   "metadata": {},
   "outputs": [
    {
     "name": "stdout",
     "output_type": "stream",
     "text": [
      "<class 'pandas.core.frame.DataFrame'>\n",
      "RangeIndex: 891 entries, 0 to 890\n",
      "Data columns (total 12 columns):\n",
      " #   Column       Non-Null Count  Dtype  \n",
      "---  ------       --------------  -----  \n",
      " 0   PassengerId  891 non-null    int64  \n",
      " 1   Survived     891 non-null    int64  \n",
      " 2   Pclass       891 non-null    int64  \n",
      " 3   Name         891 non-null    object \n",
      " 4   Sex          891 non-null    object \n",
      " 5   Age          714 non-null    float64\n",
      " 6   SibSp        891 non-null    int64  \n",
      " 7   Parch        891 non-null    int64  \n",
      " 8   Ticket       891 non-null    object \n",
      " 9   Fare         891 non-null    float64\n",
      " 10  Cabin        204 non-null    object \n",
      " 11  Embarked     889 non-null    object \n",
      "dtypes: float64(2), int64(5), object(5)\n",
      "memory usage: 83.7+ KB\n"
     ]
    }
   ],
   "source": [
    "train_df.info()"
   ]
  },
  {
   "cell_type": "code",
   "execution_count": 37,
   "metadata": {},
   "outputs": [],
   "source": [
    "categorical_features = [\"Pclass\", \"Sex\", \"Embarked\", \"age_group\"]\n",
    "\n",
    "pipeline = Pipeline([\n",
    "    (\"missing_age_filler\", FillMissingAgeTransformer()),\n",
    "    (\"age_categoriser\", AgeCategorisationTransformer()),\n",
    "    (\"one_hot_encoder\", ColumnTransformer([(\"oh\", OneHotEncoder(), categorical_features), (\"cont_transformer\")]))\n",
    "])"
   ]
  },
  {
   "cell_type": "code",
   "execution_count": 40,
   "metadata": {},
   "outputs": [
    {
     "data": {
      "text/plain": [
       "array([[0., 0., 1., ..., 1., 0., 0.],\n",
       "       [1., 0., 0., ..., 1., 0., 0.],\n",
       "       [0., 0., 1., ..., 1., 0., 0.],\n",
       "       ...,\n",
       "       [0., 0., 1., ..., 1., 0., 0.],\n",
       "       [1., 0., 0., ..., 1., 0., 0.],\n",
       "       [0., 0., 1., ..., 1., 0., 0.]])"
      ]
     },
     "execution_count": 40,
     "metadata": {},
     "output_type": "execute_result"
    }
   ],
   "source": [
    "pipeline.fit_transform(train_df)"
   ]
  }
 ],
 "metadata": {
  "kernelspec": {
   "display_name": "myenv",
   "language": "python",
   "name": "myenv"
  },
  "language_info": {
   "codemirror_mode": {
    "name": "ipython",
    "version": 3
   },
   "file_extension": ".py",
   "mimetype": "text/x-python",
   "name": "python",
   "nbconvert_exporter": "python",
   "pygments_lexer": "ipython3",
   "version": "3.9.13"
  },
  "orig_nbformat": 4
 },
 "nbformat": 4,
 "nbformat_minor": 2
}
